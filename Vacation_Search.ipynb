{
 "cells": [
  {
   "cell_type": "code",
   "execution_count": 1,
   "metadata": {},
   "outputs": [],
   "source": [
    "# Import the dependencies.\n",
    "import pandas as pd\n",
    "import gmaps\n",
    "import requests\n",
    "# Import the API key.\n",
    "from config import g_key"
   ]
  },
  {
   "cell_type": "code",
   "execution_count": 26,
   "metadata": {},
   "outputs": [
    {
     "data": {
      "text/html": [
       "<div>\n",
       "<style scoped>\n",
       "    .dataframe tbody tr th:only-of-type {\n",
       "        vertical-align: middle;\n",
       "    }\n",
       "\n",
       "    .dataframe tbody tr th {\n",
       "        vertical-align: top;\n",
       "    }\n",
       "\n",
       "    .dataframe thead th {\n",
       "        text-align: right;\n",
       "    }\n",
       "</style>\n",
       "<table border=\"1\" class=\"dataframe\">\n",
       "  <thead>\n",
       "    <tr style=\"text-align: right;\">\n",
       "      <th></th>\n",
       "      <th>City_ID</th>\n",
       "      <th>City</th>\n",
       "      <th>Lat</th>\n",
       "      <th>Lng</th>\n",
       "      <th>Max Temp</th>\n",
       "      <th>Humidity</th>\n",
       "      <th>Cloudiness</th>\n",
       "      <th>Wind Speed</th>\n",
       "      <th>Country</th>\n",
       "      <th>Current Description</th>\n",
       "      <th>Rain(inches)</th>\n",
       "      <th>Snow(inches)</th>\n",
       "      <th>Date</th>\n",
       "    </tr>\n",
       "  </thead>\n",
       "  <tbody>\n",
       "    <tr>\n",
       "      <th>0</th>\n",
       "      <td>0</td>\n",
       "      <td>Bethel</td>\n",
       "      <td>41.37</td>\n",
       "      <td>-73.41</td>\n",
       "      <td>73.40</td>\n",
       "      <td>69</td>\n",
       "      <td>1</td>\n",
       "      <td>5.82</td>\n",
       "      <td>US</td>\n",
       "      <td>clear sky</td>\n",
       "      <td>0.0</td>\n",
       "      <td>0</td>\n",
       "      <td>2020-06-21 02:12:20</td>\n",
       "    </tr>\n",
       "    <tr>\n",
       "      <th>1</th>\n",
       "      <td>1</td>\n",
       "      <td>Havre-Saint-Pierre</td>\n",
       "      <td>50.23</td>\n",
       "      <td>-63.60</td>\n",
       "      <td>51.80</td>\n",
       "      <td>87</td>\n",
       "      <td>1</td>\n",
       "      <td>3.36</td>\n",
       "      <td>CA</td>\n",
       "      <td>clear sky</td>\n",
       "      <td>0.0</td>\n",
       "      <td>0</td>\n",
       "      <td>2020-06-21 02:12:20</td>\n",
       "    </tr>\n",
       "    <tr>\n",
       "      <th>2</th>\n",
       "      <td>2</td>\n",
       "      <td>Kapaa</td>\n",
       "      <td>22.08</td>\n",
       "      <td>-159.32</td>\n",
       "      <td>84.20</td>\n",
       "      <td>66</td>\n",
       "      <td>40</td>\n",
       "      <td>11.41</td>\n",
       "      <td>US</td>\n",
       "      <td>scattered clouds</td>\n",
       "      <td>0.0</td>\n",
       "      <td>0</td>\n",
       "      <td>2020-06-21 02:12:20</td>\n",
       "    </tr>\n",
       "    <tr>\n",
       "      <th>3</th>\n",
       "      <td>3</td>\n",
       "      <td>Alofi</td>\n",
       "      <td>-19.06</td>\n",
       "      <td>-169.92</td>\n",
       "      <td>78.80</td>\n",
       "      <td>78</td>\n",
       "      <td>100</td>\n",
       "      <td>14.99</td>\n",
       "      <td>NU</td>\n",
       "      <td>overcast clouds</td>\n",
       "      <td>0.0</td>\n",
       "      <td>0</td>\n",
       "      <td>2020-06-21 02:10:38</td>\n",
       "    </tr>\n",
       "    <tr>\n",
       "      <th>4</th>\n",
       "      <td>4</td>\n",
       "      <td>Puerto Ayora</td>\n",
       "      <td>-0.74</td>\n",
       "      <td>-90.35</td>\n",
       "      <td>69.01</td>\n",
       "      <td>96</td>\n",
       "      <td>82</td>\n",
       "      <td>9.19</td>\n",
       "      <td>EC</td>\n",
       "      <td>broken clouds</td>\n",
       "      <td>0.0</td>\n",
       "      <td>0</td>\n",
       "      <td>2020-06-21 02:07:28</td>\n",
       "    </tr>\n",
       "  </tbody>\n",
       "</table>\n",
       "</div>"
      ],
      "text/plain": [
       "   City_ID                City    Lat     Lng  Max Temp  Humidity  Cloudiness  \\\n",
       "0        0              Bethel  41.37  -73.41     73.40        69           1   \n",
       "1        1  Havre-Saint-Pierre  50.23  -63.60     51.80        87           1   \n",
       "2        2               Kapaa  22.08 -159.32     84.20        66          40   \n",
       "3        3               Alofi -19.06 -169.92     78.80        78         100   \n",
       "4        4        Puerto Ayora  -0.74  -90.35     69.01        96          82   \n",
       "\n",
       "   Wind Speed Country Current Description  Rain(inches)  Snow(inches)  \\\n",
       "0        5.82      US           clear sky           0.0             0   \n",
       "1        3.36      CA           clear sky           0.0             0   \n",
       "2       11.41      US    scattered clouds           0.0             0   \n",
       "3       14.99      NU     overcast clouds           0.0             0   \n",
       "4        9.19      EC       broken clouds           0.0             0   \n",
       "\n",
       "                  Date  \n",
       "0  2020-06-21 02:12:20  \n",
       "1  2020-06-21 02:12:20  \n",
       "2  2020-06-21 02:12:20  \n",
       "3  2020-06-21 02:10:38  \n",
       "4  2020-06-21 02:07:28  "
      ]
     },
     "execution_count": 26,
     "metadata": {},
     "output_type": "execute_result"
    }
   ],
   "source": [
    "# Store the CSV you saved created in part one into a DataFrame.\n",
    "city_data_df = pd.read_csv(\"weather_data/WeatherPy_database.csv\")\n",
    "city_data_df.head()"
   ]
  },
  {
   "cell_type": "code",
   "execution_count": 27,
   "metadata": {},
   "outputs": [
    {
     "data": {
      "text/plain": [
       "City_ID                  int64\n",
       "City                    object\n",
       "Lat                    float64\n",
       "Lng                    float64\n",
       "Max Temp               float64\n",
       "Humidity                 int64\n",
       "Cloudiness               int64\n",
       "Wind Speed             float64\n",
       "Country                 object\n",
       "Current Description     object\n",
       "Rain(inches)           float64\n",
       "Snow(inches)             int64\n",
       "Date                    object\n",
       "dtype: object"
      ]
     },
     "execution_count": 27,
     "metadata": {},
     "output_type": "execute_result"
    }
   ],
   "source": [
    "# Get the data types.\n",
    "city_data_df.dtypes"
   ]
  },
  {
   "cell_type": "code",
   "execution_count": 28,
   "metadata": {},
   "outputs": [],
   "source": [
    "# Configure gmaps to use your Google API key.\n",
    "gmaps.configure(api_key=g_key)\n"
   ]
  },
  {
   "cell_type": "code",
   "execution_count": 29,
   "metadata": {
    "scrolled": true
   },
   "outputs": [],
   "source": [
    "rain_cities = city_data_df.loc[city_data_df[\"Rain(inches)\"]>0]"
   ]
  },
  {
   "cell_type": "code",
   "execution_count": 30,
   "metadata": {},
   "outputs": [],
   "source": [
    "snow_cities = city_data_df.loc[city_data_df[\"Snow(inches)\"]>0]"
   ]
  },
  {
   "cell_type": "code",
   "execution_count": 31,
   "metadata": {},
   "outputs": [
    {
     "name": "stdout",
     "output_type": "stream",
     "text": [
      "What is the minimum temperature you would like for your trip? 60\n",
      "What is the maximum temperature you would like for your trip? 90\n"
     ]
    }
   ],
   "source": [
    "# Ask the customer to add a minimum and maximum temperature value.\n",
    "min_temp = float(input(\"What is the minimum temperature you would like for your trip? \"))\n",
    "max_temp = float(input(\"What is the maximum temperature you would like for your trip? \"))"
   ]
  },
  {
   "cell_type": "code",
   "execution_count": 32,
   "metadata": {},
   "outputs": [
    {
     "name": "stdout",
     "output_type": "stream",
     "text": [
      "Do you want it to be raining? (yes/no)yes\n"
     ]
    }
   ],
   "source": [
    "# Ask the customer if they want Rain or snow\n",
    "rain_amount = input(\"Do you want it to be raining? (yes/no)\")\n"
   ]
  },
  {
   "cell_type": "code",
   "execution_count": 33,
   "metadata": {},
   "outputs": [
    {
     "name": "stdout",
     "output_type": "stream",
     "text": [
      "Do you want it to be snowing (yes/no)no\n"
     ]
    }
   ],
   "source": [
    "snow_amount = input(\"Do you want it to be snowing (yes/no)\")"
   ]
  },
  {
   "cell_type": "code",
   "execution_count": 34,
   "metadata": {},
   "outputs": [],
   "source": [
    "if rain_amount == \"no\" and snow_amount == \"no\":\n",
    "    filtered_cities_df = city_data_df.loc[(city_data_df[\"Max Temp\"] <= max_temp) &\n",
    "                                          (city_data_df[\"Max Temp\"] >= min_temp) &\n",
    "                                          (city_data_df[\"Rain(inches)\"] ==0) &\n",
    "                                          (city_data_df[\"Snow(inches)\"] ==0)]  \n",
    "elif rain_amount == \"no\" and snow_amount == \"yes\":\n",
    "    filtered_cities_df = city_data_df.loc[(city_data_df[\"Max Temp\"] <= max_temp) &\n",
    "                                          (city_data_df[\"Max Temp\"] >= min_temp) &\n",
    "                                          (city_data_df[\"Rain(inches)\"] ==0) &\n",
    "                                          (city_data_df[\"Snow(inches)\"] >=0.0)]\n",
    "elif rain_amount == \"yes\" and snow_amount == \"no\":\n",
    "    filtered_cities_df = city_data_df.loc[(city_data_df[\"Max Temp\"] <= max_temp) &\n",
    "                                          (city_data_df[\"Max Temp\"] >= min_temp) &\n",
    "                                          (city_data_df[\"Rain(inches)\"] > 0.0) &\n",
    "                                          (city_data_df[\"Snow(inches)\"] == 0)]\n",
    "else:\n",
    "    filtered_cities_df = city_data_df.loc[(city_data_df[\"Max Temp\"] <= max_temp) &\n",
    "                                          (city_data_df[\"Max Temp\"] >= min_temp) &\n",
    "                                          (city_data_df[\"Rain(inches)\"] > 0.0) &\n",
    "                                          (city_data_df[\"Snow(inches)\"] > 0)]\n",
    "                                           "
   ]
  },
  {
   "cell_type": "code",
   "execution_count": 35,
   "metadata": {},
   "outputs": [],
   "source": [
    "filtered_cities_df = filtered_cities_df.dropna()"
   ]
  },
  {
   "cell_type": "code",
   "execution_count": 36,
   "metadata": {},
   "outputs": [
    {
     "data": {
      "text/html": [
       "<div>\n",
       "<style scoped>\n",
       "    .dataframe tbody tr th:only-of-type {\n",
       "        vertical-align: middle;\n",
       "    }\n",
       "\n",
       "    .dataframe tbody tr th {\n",
       "        vertical-align: top;\n",
       "    }\n",
       "\n",
       "    .dataframe thead th {\n",
       "        text-align: right;\n",
       "    }\n",
       "</style>\n",
       "<table border=\"1\" class=\"dataframe\">\n",
       "  <thead>\n",
       "    <tr style=\"text-align: right;\">\n",
       "      <th></th>\n",
       "      <th>City</th>\n",
       "      <th>Country</th>\n",
       "      <th>Max Temp</th>\n",
       "      <th>Current Description</th>\n",
       "      <th>Lat</th>\n",
       "      <th>Lng</th>\n",
       "      <th>Hotel Name</th>\n",
       "    </tr>\n",
       "  </thead>\n",
       "  <tbody>\n",
       "    <tr>\n",
       "      <th>5</th>\n",
       "      <td>Sangar</td>\n",
       "      <td>RU</td>\n",
       "      <td>73.29</td>\n",
       "      <td>light rain</td>\n",
       "      <td>63.92</td>\n",
       "      <td>127.47</td>\n",
       "      <td></td>\n",
       "    </tr>\n",
       "    <tr>\n",
       "      <th>20</th>\n",
       "      <td>Tecoanapa</td>\n",
       "      <td>MX</td>\n",
       "      <td>82.00</td>\n",
       "      <td>moderate rain</td>\n",
       "      <td>16.52</td>\n",
       "      <td>-98.75</td>\n",
       "      <td></td>\n",
       "    </tr>\n",
       "    <tr>\n",
       "      <th>21</th>\n",
       "      <td>Hearst</td>\n",
       "      <td>CA</td>\n",
       "      <td>62.15</td>\n",
       "      <td>moderate rain</td>\n",
       "      <td>49.68</td>\n",
       "      <td>-83.67</td>\n",
       "      <td></td>\n",
       "    </tr>\n",
       "    <tr>\n",
       "      <th>29</th>\n",
       "      <td>Vangaindrano</td>\n",
       "      <td>MG</td>\n",
       "      <td>65.41</td>\n",
       "      <td>light rain</td>\n",
       "      <td>-23.35</td>\n",
       "      <td>47.60</td>\n",
       "      <td></td>\n",
       "    </tr>\n",
       "    <tr>\n",
       "      <th>91</th>\n",
       "      <td>Panzhihua</td>\n",
       "      <td>CN</td>\n",
       "      <td>82.15</td>\n",
       "      <td>light rain</td>\n",
       "      <td>26.59</td>\n",
       "      <td>101.71</td>\n",
       "      <td></td>\n",
       "    </tr>\n",
       "    <tr>\n",
       "      <th>125</th>\n",
       "      <td>Yerbogachen</td>\n",
       "      <td>RU</td>\n",
       "      <td>74.46</td>\n",
       "      <td>light rain</td>\n",
       "      <td>61.28</td>\n",
       "      <td>108.01</td>\n",
       "      <td></td>\n",
       "    </tr>\n",
       "    <tr>\n",
       "      <th>132</th>\n",
       "      <td>Pontianak</td>\n",
       "      <td>ID</td>\n",
       "      <td>76.08</td>\n",
       "      <td>light rain</td>\n",
       "      <td>-0.03</td>\n",
       "      <td>109.33</td>\n",
       "      <td></td>\n",
       "    </tr>\n",
       "    <tr>\n",
       "      <th>153</th>\n",
       "      <td>Grand-Santi</td>\n",
       "      <td>GF</td>\n",
       "      <td>73.38</td>\n",
       "      <td>light rain</td>\n",
       "      <td>4.25</td>\n",
       "      <td>-54.38</td>\n",
       "      <td></td>\n",
       "    </tr>\n",
       "    <tr>\n",
       "      <th>158</th>\n",
       "      <td>Carroll</td>\n",
       "      <td>US</td>\n",
       "      <td>69.01</td>\n",
       "      <td>light rain</td>\n",
       "      <td>39.55</td>\n",
       "      <td>-77.02</td>\n",
       "      <td></td>\n",
       "    </tr>\n",
       "    <tr>\n",
       "      <th>161</th>\n",
       "      <td>Gizo</td>\n",
       "      <td>SB</td>\n",
       "      <td>84.40</td>\n",
       "      <td>light rain</td>\n",
       "      <td>-8.10</td>\n",
       "      <td>156.84</td>\n",
       "      <td></td>\n",
       "    </tr>\n",
       "  </tbody>\n",
       "</table>\n",
       "</div>"
      ],
      "text/plain": [
       "             City Country  Max Temp Current Description    Lat     Lng  \\\n",
       "5          Sangar      RU     73.29          light rain  63.92  127.47   \n",
       "20      Tecoanapa      MX     82.00       moderate rain  16.52  -98.75   \n",
       "21         Hearst      CA     62.15       moderate rain  49.68  -83.67   \n",
       "29   Vangaindrano      MG     65.41          light rain -23.35   47.60   \n",
       "91      Panzhihua      CN     82.15          light rain  26.59  101.71   \n",
       "125   Yerbogachen      RU     74.46          light rain  61.28  108.01   \n",
       "132     Pontianak      ID     76.08          light rain  -0.03  109.33   \n",
       "153   Grand-Santi      GF     73.38          light rain   4.25  -54.38   \n",
       "158       Carroll      US     69.01          light rain  39.55  -77.02   \n",
       "161          Gizo      SB     84.40          light rain  -8.10  156.84   \n",
       "\n",
       "    Hotel Name  \n",
       "5               \n",
       "20              \n",
       "21              \n",
       "29              \n",
       "91              \n",
       "125             \n",
       "132             \n",
       "153             \n",
       "158             \n",
       "161             "
      ]
     },
     "execution_count": 36,
     "metadata": {},
     "output_type": "execute_result"
    }
   ],
   "source": [
    "# Create DataFrame called hotel_df to store hotel names along with city, country, max temp, and coordinates.\n",
    "hotel_df = filtered_cities_df[[\"City\", \"Country\", \"Max Temp\", \"Current Description\", \"Lat\", \"Lng\"]].copy()\n",
    "hotel_df[\"Hotel Name\"] = \"\"\n",
    "hotel_df.head(10)"
   ]
  },
  {
   "cell_type": "code",
   "execution_count": 37,
   "metadata": {},
   "outputs": [],
   "source": [
    "# Set the parameters to search for a hotel in Paris.\n",
    "params = {\n",
    "    \"radius\": 5000,\n",
    "    \"types\": \"lodging\",\n",
    "    \"key\": g_key}\n",
    "# Use base URL to search for hotels in Paris.\n",
    "base_url = \"https://maps.googleapis.com/maps/api/place/nearbysearch/json\"\n",
    "# Make request and get the JSON data from the search.\n",
    "hotels = requests.get(base_url, params=params).json()"
   ]
  },
  {
   "cell_type": "code",
   "execution_count": 38,
   "metadata": {},
   "outputs": [
    {
     "name": "stdout",
     "output_type": "stream",
     "text": [
      "Hotel not found... skipping.\n",
      "Hotel not found... skipping.\n",
      "Hotel not found... skipping.\n"
     ]
    }
   ],
   "source": [
    "# Iterate through the DataFrame.\n",
    "for index, row in hotel_df.iterrows():\n",
    "    # Get the latitude and longitude.\n",
    "    lat = row[\"Lat\"]\n",
    "    lng = row[\"Lng\"]\n",
    "\n",
    "    # Add the latitude and longitude to location key for the params dictionary.\n",
    "    params[\"location\"] = f\"{lat},{lng}\"\n",
    "\n",
    "    # Use the search term: \"lodging\" and our latitude and longitude.\n",
    "    base_url = \"https://maps.googleapis.com/maps/api/place/nearbysearch/json\"\n",
    "    # Make request and get the JSON data from the search.\n",
    "    hotels = requests.get(base_url, params=params).json()\n",
    "    # Grab the first hotel from the results and store the name.\n",
    "    try:\n",
    "        hotel_df.loc[index, \"Hotel Name\"] = hotels[\"results\"][0][\"name\"]\n",
    "    except IndexError:\n",
    "        print(\"Hotel not found... skipping.\")"
   ]
  },
  {
   "cell_type": "code",
   "execution_count": 39,
   "metadata": {},
   "outputs": [],
   "source": [
    "# Create the output file (CSV).\n",
    "output_data_file = \"weather_data/WeatherPy_Vacation.csv\"\n",
    "hotel_df.to_csv(output_data_file, index_label=\"City_ID\")"
   ]
  },
  {
   "cell_type": "code",
   "execution_count": 40,
   "metadata": {},
   "outputs": [],
   "source": [
    "info_box_template = \"\"\"\n",
    "<dl>\n",
    "<dt>Hotel Name</dt><dd>{Hotel Name}</dd>\n",
    "<dt>City</dt><dd>{City}</dd>\n",
    "<dt>Country</dt><dd>{Country}</dd>\n",
    "<dt>Hotel Name</dt><dd>{Hotel Name} at {Max Temp}</dd>\n",
    "\"\"\""
   ]
  },
  {
   "cell_type": "code",
   "execution_count": 41,
   "metadata": {},
   "outputs": [],
   "source": [
    "# Store the DataFrame Row.\n",
    "hotel_info = [info_box_template.format(**row) for index, row in hotel_df.iterrows()]\n"
   ]
  },
  {
   "cell_type": "code",
   "execution_count": 48,
   "metadata": {},
   "outputs": [
    {
     "data": {
      "application/vnd.jupyter.widget-view+json": {
       "model_id": "7264f860ad13425497f29fb92cdfc2ac",
       "version_major": 2,
       "version_minor": 0
      },
      "text/plain": [
       "Figure(layout=FigureLayout(height='420px'))"
      ]
     },
     "metadata": {},
     "output_type": "display_data"
    }
   ],
   "source": [
    "# Add a heatmap of temperature for the vacation spots and a pop-up marker for each city.\n",
    "locations = hotel_df[[\"Lat\", \"Lng\"]]\n",
    "fig = gmaps.figure(center=(30.0, 31.0), zoom_level=1.5)\n",
    "\n",
    "marker_layer = gmaps.marker_layer(locations, info_box_content=hotel_info)\n",
    "\n",
    "fig.add_layer(marker_layer)\n",
    "# Call the figure to plot the data.\n",
    "fig\n"
   ]
  },
  {
   "cell_type": "code",
   "execution_count": 43,
   "metadata": {},
   "outputs": [
    {
     "data": {
      "text/html": [
       "<div>\n",
       "<style scoped>\n",
       "    .dataframe tbody tr th:only-of-type {\n",
       "        vertical-align: middle;\n",
       "    }\n",
       "\n",
       "    .dataframe tbody tr th {\n",
       "        vertical-align: top;\n",
       "    }\n",
       "\n",
       "    .dataframe thead th {\n",
       "        text-align: right;\n",
       "    }\n",
       "</style>\n",
       "<table border=\"1\" class=\"dataframe\">\n",
       "  <thead>\n",
       "    <tr style=\"text-align: right;\">\n",
       "      <th></th>\n",
       "      <th>City_ID</th>\n",
       "      <th>City</th>\n",
       "      <th>Country</th>\n",
       "      <th>Max Temp</th>\n",
       "      <th>Current Description</th>\n",
       "      <th>Lat</th>\n",
       "      <th>Lng</th>\n",
       "      <th>Hotel Name</th>\n",
       "    </tr>\n",
       "  </thead>\n",
       "  <tbody>\n",
       "    <tr>\n",
       "      <th>0</th>\n",
       "      <td>5</td>\n",
       "      <td>Sangar</td>\n",
       "      <td>RU</td>\n",
       "      <td>73.29</td>\n",
       "      <td>light rain</td>\n",
       "      <td>63.92</td>\n",
       "      <td>127.47</td>\n",
       "      <td>NaN</td>\n",
       "    </tr>\n",
       "    <tr>\n",
       "      <th>1</th>\n",
       "      <td>20</td>\n",
       "      <td>Tecoanapa</td>\n",
       "      <td>MX</td>\n",
       "      <td>82.00</td>\n",
       "      <td>moderate rain</td>\n",
       "      <td>16.52</td>\n",
       "      <td>-98.75</td>\n",
       "      <td>Hotel Manglares</td>\n",
       "    </tr>\n",
       "    <tr>\n",
       "      <th>2</th>\n",
       "      <td>21</td>\n",
       "      <td>Hearst</td>\n",
       "      <td>CA</td>\n",
       "      <td>62.15</td>\n",
       "      <td>moderate rain</td>\n",
       "      <td>49.68</td>\n",
       "      <td>-83.67</td>\n",
       "      <td>Companion</td>\n",
       "    </tr>\n",
       "    <tr>\n",
       "      <th>3</th>\n",
       "      <td>29</td>\n",
       "      <td>Vangaindrano</td>\n",
       "      <td>MG</td>\n",
       "      <td>65.41</td>\n",
       "      <td>light rain</td>\n",
       "      <td>-23.35</td>\n",
       "      <td>47.60</td>\n",
       "      <td>Hotel Fanilo</td>\n",
       "    </tr>\n",
       "    <tr>\n",
       "      <th>4</th>\n",
       "      <td>91</td>\n",
       "      <td>Panzhihua</td>\n",
       "      <td>CN</td>\n",
       "      <td>82.15</td>\n",
       "      <td>light rain</td>\n",
       "      <td>26.59</td>\n",
       "      <td>101.71</td>\n",
       "      <td>Electric Power Hotel</td>\n",
       "    </tr>\n",
       "  </tbody>\n",
       "</table>\n",
       "</div>"
      ],
      "text/plain": [
       "   City_ID          City Country  Max Temp Current Description    Lat     Lng  \\\n",
       "0        5        Sangar      RU     73.29          light rain  63.92  127.47   \n",
       "1       20     Tecoanapa      MX     82.00       moderate rain  16.52  -98.75   \n",
       "2       21        Hearst      CA     62.15       moderate rain  49.68  -83.67   \n",
       "3       29  Vangaindrano      MG     65.41          light rain -23.35   47.60   \n",
       "4       91     Panzhihua      CN     82.15          light rain  26.59  101.71   \n",
       "\n",
       "             Hotel Name  \n",
       "0                   NaN  \n",
       "1       Hotel Manglares  \n",
       "2             Companion  \n",
       "3          Hotel Fanilo  \n",
       "4  Electric Power Hotel  "
      ]
     },
     "execution_count": 43,
     "metadata": {},
     "output_type": "execute_result"
    }
   ],
   "source": [
    "vacation_df = pd.read_csv(\"weather_data/WeatherPy_Vacation.csv\")\n",
    "vacation_df.head()"
   ]
  },
  {
   "cell_type": "code",
   "execution_count": 46,
   "metadata": {},
   "outputs": [
    {
     "ename": "AttributeError",
     "evalue": "'Figure' object has no attribute 'savefig'",
     "output_type": "error",
     "traceback": [
      "\u001b[0;31m---------------------------------------------------------------------------\u001b[0m",
      "\u001b[0;31mAttributeError\u001b[0m                            Traceback (most recent call last)",
      "\u001b[0;32m<ipython-input-46-1bfd34c8c620>\u001b[0m in \u001b[0;36m<module>\u001b[0;34m\u001b[0m\n\u001b[0;32m----> 1\u001b[0;31m \u001b[0mfig\u001b[0m\u001b[0;34m.\u001b[0m\u001b[0msavefig\u001b[0m\u001b[0;34m(\u001b[0m\u001b[0;34m\"weather_data/WeatherPy_vacation_map.png\"\u001b[0m\u001b[0;34m)\u001b[0m\u001b[0;34m\u001b[0m\u001b[0;34m\u001b[0m\u001b[0m\n\u001b[0m",
      "\u001b[0;31mAttributeError\u001b[0m: 'Figure' object has no attribute 'savefig'"
     ]
    }
   ],
   "source": []
  },
  {
   "cell_type": "code",
   "execution_count": null,
   "metadata": {},
   "outputs": [],
   "source": []
  }
 ],
 "metadata": {
  "kernelspec": {
   "display_name": "PythonData",
   "language": "python",
   "name": "pythondata"
  },
  "language_info": {
   "codemirror_mode": {
    "name": "ipython",
    "version": 3
   },
   "file_extension": ".py",
   "mimetype": "text/x-python",
   "name": "python",
   "nbconvert_exporter": "python",
   "pygments_lexer": "ipython3",
   "version": "3.7.7"
  }
 },
 "nbformat": 4,
 "nbformat_minor": 4
}
